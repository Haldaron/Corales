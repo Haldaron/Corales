{
 "cells": [
  {
   "cell_type": "code",
   "execution_count": 1,
   "metadata": {
    "collapsed": false
   },
   "outputs": [
    {
     "name": "stdout",
     "output_type": "stream",
     "text": [
      "Populating the interactive namespace from numpy and matplotlib\n"
     ]
    },
    {
     "name": "stderr",
     "output_type": "stream",
     "text": [
      "WARNING: pylab import has clobbered these variables: ['random']\n",
      "`%matplotlib` prevents importing * from pylab and numpy\n"
     ]
    }
   ],
   "source": [
    "import numpy as np\n",
    "import random\n",
    "from collections import OrderedDict\n",
    "import scipy.io as sio \n",
    "from sklearn.svm import SVC\n",
    "from time import time\n",
    "from mpl_toolkits.mplot3d import Axes3D\n",
    "from sklearn.externals import joblib\n",
    "from PIL import Image\n",
    "import glob\n",
    "%pylab inline"
   ]
  },
  {
   "cell_type": "code",
   "execution_count": 2,
   "metadata": {
    "collapsed": false
   },
   "outputs": [],
   "source": [
    "model=joblib.load('modelC1logS75.pkl')"
   ]
  },
  {
   "cell_type": "code",
   "execution_count": 52,
   "metadata": {
    "collapsed": false
   },
   "outputs": [
    {
     "data": {
      "text/plain": [
       "array([ 1.])"
      ]
     },
     "execution_count": 52,
     "metadata": {},
     "output_type": "execute_result"
    }
   ],
   "source": [
    "model.predict(mat[400:600,400:600].reshape(1,-1))"
   ]
  },
  {
   "cell_type": "code",
   "execution_count": 6,
   "metadata": {
    "collapsed": false
   },
   "outputs": [
    {
     "name": "stdout",
     "output_type": "stream",
     "text": [
      "../JPG/A2 - L/img_000000013__000.jpg: 17.0\n",
      "../JPG/A2 - L/img_000000012__000.jpg: 17.0\n",
      "../JPG/A2 - L/img_000000047__000.jpg: 10.0\n",
      "../JPG/A2 - L/img_000000040__000.jpg: 5.0\n",
      "../JPG/A2 - L/img_000000009__000.jpg: 12.0\n",
      "../JPG/A2 - L/img_000000006__000.jpg: 9.0\n",
      "../JPG/A2 - L/img_000000004__000.jpg: 14.0\n",
      "../JPG/A2 - L/img_000000002__000.jpg: 10.0\n",
      "../JPG/A2 - L/img_000000035__000.jpg: 7.0\n",
      "../JPG/A2 - L/img_000000032__000.jpg: 6.0\n",
      "../JPG/A2 - L/img_000000025__000.jpg: 11.0\n",
      "../JPG/A2 - L/img_000000011__000.jpg: 18.0\n",
      "../JPG/A2 - L/img_000000024__000.jpg: 7.0\n",
      "../JPG/A2 - L/img_000000019__000.jpg: 16.0\n",
      "../JPG/A2 - L/img_000000005__000.jpg: 14.0\n",
      "../JPG/A2 - L/img_000000003__000.jpg: 9.0\n",
      "../JPG/A2 - L/img_000000044__000.jpg: 9.0\n",
      "../JPG/A2 - L/img_000000033__000.jpg: 7.0\n",
      "../JPG/A2 - L/img_000000018__000.jpg: 10.0\n",
      "../JPG/A2 - L/img_000000030__000.jpg: 8.0\n",
      "../JPG/A2 - L/img_000000022__000.jpg: 5.0\n",
      "../JPG/A2 - L/img_000000037__000.jpg: 4.0\n",
      "../JPG/A2 - L/img_000000048__000.jpg: 5.0\n",
      "../JPG/A2 - L/img_000000041__000.jpg: 7.0\n",
      "../JPG/A2 - L/img_000000045__000.jpg: 9.0\n",
      "../JPG/A2 - L/img_000000016__000.jpg: 12.0\n",
      "../JPG/A2 - L/img_000000027__000.jpg: 14.0\n",
      "../JPG/A2 - L/img_000000023__000.jpg: 9.0\n",
      "../JPG/A2 - L/img_000000008__000.jpg: 12.0\n",
      "../JPG/A2 - L/img_000000029__000.jpg: 10.0\n",
      "../JPG/A2 - L/img_000000039__000.jpg: 7.0\n",
      "../JPG/A2 - L/img_000000007__000.jpg: 9.0\n",
      "../JPG/A2 - L/img_000000021__000.jpg: 5.0\n",
      "../JPG/A2 - L/img_000000001__000.jpg: 7.0\n",
      "../JPG/A2 - L/img_000000042__000.jpg: 6.0\n",
      "../JPG/A2 - L/img_000000015__000.jpg: 13.0\n",
      "../JPG/A2 - L/img_000000020__000.jpg: 13.0\n",
      "../JPG/A2 - L/img_000000034__000.jpg: 9.0\n",
      "../JPG/A2 - L/img_000000026__000.jpg: 15.0\n",
      "../JPG/A2 - L/img_000000031__000.jpg: 3.0\n",
      "../JPG/A2 - L/img_000000043__000.jpg: 4.0\n",
      "../JPG/A2 - L/img_000000010__000.jpg: 18.0\n",
      "../JPG/A2 - L/img_000000036__000.jpg: 11.0\n",
      "../JPG/A2 - L/img_000000000__000.jpg: 7.0\n",
      "../JPG/A2 - L/img_000000046__000.jpg: 15.0\n",
      "../JPG/A2 - L/img_000000017__000.jpg: 6.0\n",
      "../JPG/A2 - L/img_000000014__000.jpg: 14.0\n",
      "../JPG/A2 - L/img_000000038__000.jpg: 2.0\n",
      "../JPG/A2 - L/img_000000028__000.jpg: 14.0\n"
     ]
    }
   ],
   "source": [
    "sums=[]\n",
    "files=glob.glob('../JPG/A2 - L/*.jpg')\n",
    "for filename in files:    \n",
    "    im=Image.open(filename)\n",
    "    mat=np.array(im.getdata()).reshape(im.size[1], im.size[0])\n",
    "    n=im.size[1]//200\n",
    "    m=im.size[0]//200\n",
    "    oi=(im.size[1]%200)//2\n",
    "    oj=(im.size[0]%200)//2\n",
    "\n",
    "    tags=[]\n",
    "    for i in range(n):\n",
    "        for j in range(m):\n",
    "            tags.append(model.predict(mat[i*200+oi:(i+1)*200+oi,j*200+oj:(j+1)*200+oj].reshape(1,-1)))\n",
    "        \n",
    "    sums.append(sum(tags)) \n",
    "    print(filename + ': '+str(sum(tags)))\n"
   ]
  },
  {
   "cell_type": "code",
   "execution_count": 74,
   "metadata": {
    "collapsed": false,
    "scrolled": true
   },
   "outputs": [
    {
     "ename": "AttributeError",
     "evalue": "'list' object has no attribute 'transpose'",
     "output_type": "error",
     "traceback": [
      "\u001b[1;31m---------------------------------------------------------------------------\u001b[0m",
      "\u001b[1;31mAttributeError\u001b[0m                            Traceback (most recent call last)",
      "\u001b[1;32m<ipython-input-74-52220b9bb3f8>\u001b[0m in \u001b[0;36m<module>\u001b[1;34m()\u001b[0m\n\u001b[1;32m----> 1\u001b[1;33m \u001b[0mprint\u001b[0m\u001b[1;33m(\u001b[0m\u001b[0msums\u001b[0m\u001b[1;33m.\u001b[0m\u001b[0mtranspose\u001b[0m \u001b[1;33m)\u001b[0m\u001b[1;33m\u001b[0m\u001b[0m\n\u001b[0m",
      "\u001b[1;31mAttributeError\u001b[0m: 'list' object has no attribute 'transpose'"
     ]
    }
   ],
   "source": [
    "print(sums.transpose )"
   ]
  },
  {
   "cell_type": "code",
   "execution_count": 21,
   "metadata": {
    "collapsed": false
   },
   "outputs": [
    {
     "data": {
      "text/plain": [
       "array([[10, 10,  8,  9,  8],\n",
       "       [10, 10,  8,  9,  8],\n",
       "       [10, 10,  8,  9,  8],\n",
       "       [10,  9,  9,  8, 10],\n",
       "       [ 9,  8,  8,  8, 10]])"
      ]
     },
     "execution_count": 21,
     "metadata": {},
     "output_type": "execute_result"
    }
   ],
   "source": []
  },
  {
   "cell_type": "code",
   "execution_count": 25,
   "metadata": {
    "collapsed": false
   },
   "outputs": [
    {
     "data": {
      "text/plain": [
       "5"
      ]
     },
     "execution_count": 25,
     "metadata": {},
     "output_type": "execute_result"
    }
   ],
   "source": [
    "im.size[1]//200"
   ]
  },
  {
   "cell_type": "code",
   "execution_count": 50,
   "metadata": {
    "collapsed": false
   },
   "outputs": [],
   "source": [
    "im2=Image.fromarray(np.uint8(mat[400:600,400:600]))"
   ]
  },
  {
   "cell_type": "code",
   "execution_count": 51,
   "metadata": {
    "collapsed": false
   },
   "outputs": [
    {
     "data": {
      "image/png": "[encoded data removed]",
      "text/plain": [
       "<PIL.Image.Image image mode=L size=200x200 at 0x7F5562F6E898>"
      ]
     },
     "execution_count": 51,
     "metadata": {},
     "output_type": "execute_result"
    }
   ],
   "source": [
    "im2"
   ]
  },
  {
   "cell_type": "code",
   "execution_count": 66,
   "metadata": {
    "collapsed": false
   },
   "outputs": [
    {
     "name": "stdout",
     "output_type": "stream",
     "text": [
      "./JPG/A1 - L/img_000000013__000.jpg\n",
      "./JPG/A1 - L/img_000000012__000.jpg\n",
      "./JPG/A1 - L/img_000000009__000.jpg\n",
      "./JPG/A1 - L/img_000000006__000.jpg\n",
      "./JPG/A1 - L/img_000000004__000.jpg\n",
      "./JPG/A1 - L/img_000000002__000.jpg\n",
      "./JPG/A1 - L/img_000000035__000.jpg\n",
      "./JPG/A1 - L/img_000000032__000.jpg\n",
      "./JPG/A1 - L/img_000000025__000.jpg\n",
      "./JPG/A1 - L/img_000000011__000.jpg\n",
      "./JPG/A1 - L/img_000000024__000.jpg\n",
      "./JPG/A1 - L/img_000000019__000.jpg\n",
      "./JPG/A1 - L/img_000000005__000.jpg\n",
      "./JPG/A1 - L/img_000000003__000.jpg\n",
      "./JPG/A1 - L/img_000000033__000.jpg\n",
      "./JPG/A1 - L/img_000000018__000.jpg\n",
      "./JPG/A1 - L/img_000000030__000.jpg\n",
      "./JPG/A1 - L/img_000000022__000.jpg\n",
      "./JPG/A1 - L/img_000000037__000.jpg\n",
      "./JPG/A1 - L/img_000000016__000.jpg\n",
      "./JPG/A1 - L/img_000000027__000.jpg\n",
      "./JPG/A1 - L/img_000000023__000.jpg\n",
      "./JPG/A1 - L/img_000000008__000.jpg\n",
      "./JPG/A1 - L/img_000000029__000.jpg\n",
      "./JPG/A1 - L/img_000000039__000.jpg\n",
      "./JPG/A1 - L/img_000000007__000.jpg\n",
      "./JPG/A1 - L/img_000000021__000.jpg\n",
      "./JPG/A1 - L/img_000000001__000.jpg\n",
      "./JPG/A1 - L/img_000000015__000.jpg\n",
      "./JPG/A1 - L/img_000000020__000.jpg\n",
      "./JPG/A1 - L/img_000000034__000.jpg\n",
      "./JPG/A1 - L/img_000000026__000.jpg\n",
      "./JPG/A1 - L/img_000000031__000.jpg\n",
      "./JPG/A1 - L/img_000000010__000.jpg\n",
      "./JPG/A1 - L/img_000000036__000.jpg\n",
      "./JPG/A1 - L/img_000000000__000.jpg\n",
      "./JPG/A1 - L/img_000000017__000.jpg\n",
      "./JPG/A1 - L/img_000000014__000.jpg\n",
      "./JPG/A1 - L/img_000000038__000.jpg\n",
      "./JPG/A1 - L/img_000000028__000.jpg\n"
     ]
    }
   ],
   "source": [
    "files=glob.glob('./JPG/A1 - L/*.jpg')\n",
    "for filename in files:\n",
    "    print(filename)"
   ]
  },
  {
   "cell_type": "code",
   "execution_count": null,
   "metadata": {
    "collapsed": true
   },
   "outputs": [],
   "source": []
  }
 ],
 "metadata": {
  "kernelspec": {
   "display_name": "Python 3",
   "language": "python",
   "name": "python3"
  },
  "language_info": {
   "codemirror_mode": {
    "name": "ipython",
    "version": 3
   },
   "file_extension": ".py",
   "mimetype": "text/x-python",
   "name": "python",
   "nbconvert_exporter": "python",
   "pygments_lexer": "ipython3",
   "version": "3.4.3"
  }
 },
 "nbformat": 4,
 "nbformat_minor": 0
}
