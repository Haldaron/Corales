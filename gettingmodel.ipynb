{
 "cells": [
  {
   "cell_type": "code",
   "execution_count": 25,
   "metadata": {
    "collapsed": false
   },
   "outputs": [
    {
     "name": "stdout",
     "output_type": "stream",
     "text": [
      "Populating the interactive namespace from numpy and matplotlib\n"
     ]
    },
    {
     "name": "stderr",
     "output_type": "stream",
     "text": [
      "WARNING: pylab import has clobbered these variables: ['random']\n",
      "`%matplotlib` prevents importing * from pylab and numpy\n"
     ]
    }
   ],
   "source": [
    "import numpy as np\n",
    "import random\n",
    "from collections import OrderedDict\n",
    "import scipy.io as sio \n",
    "from sklearn.svm import SVC\n",
    "from time import time\n",
    "from mpl_toolkits.mplot3d import Axes3D\n",
    "from sklearn.externals import joblib \n",
    "%pylab inline"
   ]
  },
  {
   "cell_type": "code",
   "execution_count": 28,
   "metadata": {
    "collapsed": false
   },
   "outputs": [],
   "source": [
    "data=load('data.npz')"
   ]
  },
  {
   "cell_type": "code",
   "execution_count": 29,
   "metadata": {
    "collapsed": false
   },
   "outputs": [],
   "source": [
    "xtrain=data['xtrain']\n",
    "ytrain=data['ytrain'].reshape(750)\n",
    "xtest=data['xtest']\n",
    "ytest=data['ytest'].reshape(188,)"
   ]
  },
  {
   "cell_type": "code",
   "execution_count": 4,
   "metadata": {
    "collapsed": false
   },
   "outputs": [
    {
     "data": {
      "text/plain": [
       "['ytest',\n",
       " 'xtests',\n",
       " 'xtrains',\n",
       " 'ytrain',\n",
       " 'xtest',\n",
       " 'xtrain',\n",
       " 'xtestpca',\n",
       " 'xtrainpca']"
      ]
     },
     "execution_count": 4,
     "metadata": {},
     "output_type": "execute_result"
    }
   ],
   "source": [
    "data.keys()"
   ]
  },
  {
   "cell_type": "code",
   "execution_count": 6,
   "metadata": {
    "collapsed": false
   },
   "outputs": [
    {
     "data": {
      "text/plain": [
       "(188, 40000)"
      ]
     },
     "execution_count": 6,
     "metadata": {},
     "output_type": "execute_result"
    }
   ],
   "source": [
    "data['xtest'].shape"
   ]
  },
  {
   "cell_type": "code",
   "execution_count": 5,
   "metadata": {
    "collapsed": false
   },
   "outputs": [
    {
     "data": {
      "text/plain": [
       "SVC(C=1.83, cache_size=200, class_weight=None, coef0=0.0,\n",
       "  decision_function_shape=None, degree=3, gamma=0.000428, kernel='rbf',\n",
       "  max_iter=-1, probability=False, random_state=None, shrinking=False,\n",
       "  tol=0.0001, verbose=False)"
      ]
     },
     "execution_count": 5,
     "metadata": {},
     "output_type": "execute_result"
    }
   ],
   "source": [
    "model=SVC(C=1.83, kernel='rbf', gamma=0.000428,shrinking=False,tol=0.0001)\n",
    "model.fit(xtrain,ytrain)"
   ]
  },
  {
   "cell_type": "code",
   "execution_count": 6,
   "metadata": {
    "collapsed": false
   },
   "outputs": [
    {
     "data": {
      "text/plain": [
       "1.0"
      ]
     },
     "execution_count": 6,
     "metadata": {},
     "output_type": "execute_result"
    }
   ],
   "source": [
    "model.score(xtrain,ytrain)"
   ]
  },
  {
   "cell_type": "code",
   "execution_count": 6,
   "metadata": {
    "collapsed": false
   },
   "outputs": [
    {
     "data": {
      "text/plain": [
       "0.6063829787234043"
      ]
     },
     "execution_count": 6,
     "metadata": {},
     "output_type": "execute_result"
    }
   ],
   "source": [
    "model.score(xtest,ytest)"
   ]
  },
  {
   "cell_type": "code",
   "execution_count": 18,
   "metadata": {
    "collapsed": false
   },
   "outputs": [
    {
     "name": "stdout",
     "output_type": "stream",
     "text": [
      "25118864.3151 0.794328234724\n",
      "done in 40.0346s\n",
      "Test: 0.9787s\n",
      "------------------------\n",
      "25118864.3151 1.0\n",
      "done in 36.8228s\n",
      "Test: 0.9787s\n",
      "------------------------\n",
      "25118864.3151 1.25892541179\n",
      "done in 39.7765s\n",
      "Test: 0.9894s\n",
      "------------------------\n",
      "31622776.6017 0.794328234724\n",
      "done in 45.3396s\n",
      "Test: 0.9947s\n",
      "------------------------\n",
      "31622776.6017 1.0\n",
      "done in 45.0014s\n",
      "Test: 0.9947s\n",
      "------------------------\n",
      "31622776.6017 1.25892541179\n",
      "done in 45.9068s\n",
      "Test: 0.9894s\n",
      "------------------------\n",
      "39810717.0553 0.794328234724\n",
      "done in 40.4854s\n",
      "Test: 0.9894s\n",
      "------------------------\n",
      "39810717.0553 1.0\n",
      "done in 40.0971s\n",
      "Test: 0.9894s\n",
      "------------------------\n",
      "39810717.0553 1.25892541179\n",
      "done in 39.7771s\n",
      "Test: 0.9894s\n",
      "------------------------\n"
     ]
    }
   ],
   "source": [
    "accTr=[]\n",
    "accTe=[]\n",
    "logS2=np.array([7.4,7.5,7.6])\n",
    "S2=np.exp(np.log(10)*logS2)\n",
    "logC=np.array([-0.1,0,0.1])\n",
    "C=np.exp(np.log(10)*logC)\n",
    "for s2 in S2:\n",
    "    for c in C: \n",
    "        print(s2,c)\n",
    "        t0=time()\n",
    "        model =SVC(C=c, kernel='rbf', gamma=1/s2,shrinking=False,tol=0.0001)\n",
    "        model.fit(xtrain,ytrain)\n",
    "        accTest=model.score(xtest,ytest)\n",
    "        accTe.append(accTest)\n",
    "        print(\"done in %0.4fs\" % (time() - t0))\n",
    "        print(\"Test: %0.4fs\" % accTest)\n",
    "        print(\"------------------------\")"
   ]
  },
  {
   "cell_type": "code",
   "execution_count": 32,
   "metadata": {
    "collapsed": false
   },
   "outputs": [
    {
     "data": {
      "text/plain": [
       "SVC(C=1, cache_size=200, class_weight=None, coef0=0.0,\n",
       "  decision_function_shape=None, degree=3, gamma=3.1622776601667586e-08,\n",
       "  kernel='rbf', max_iter=-1, probability=False, random_state=None,\n",
       "  shrinking=False, tol=0.0001, verbose=False)"
      ]
     },
     "execution_count": 32,
     "metadata": {},
     "output_type": "execute_result"
    }
   ],
   "source": [
    "model =SVC(C=1, kernel='rbf', gamma=1/31622776.6017,shrinking=False,tol=0.0001)\n",
    "model.fit(xtrain,ytrain)"
   ]
  },
  {
   "cell_type": "code",
   "execution_count": 33,
   "metadata": {
    "collapsed": false
   },
   "outputs": [
    {
     "data": {
      "text/plain": [
       "['modelC1logS75.pkl',\n",
       " 'modelC1logS75.pkl_01.npy',\n",
       " 'modelC1logS75.pkl_02.npy',\n",
       " 'modelC1logS75.pkl_03.npy',\n",
       " 'modelC1logS75.pkl_04.npy',\n",
       " 'modelC1logS75.pkl_05.npy',\n",
       " 'modelC1logS75.pkl_06.npy',\n",
       " 'modelC1logS75.pkl_07.npy',\n",
       " 'modelC1logS75.pkl_08.npy',\n",
       " 'modelC1logS75.pkl_09.npy',\n",
       " 'modelC1logS75.pkl_10.npy',\n",
       " 'modelC1logS75.pkl_11.npy']"
      ]
     },
     "execution_count": 33,
     "metadata": {},
     "output_type": "execute_result"
    }
   ],
   "source": [
    "joblib.dump(model, 'modelC1logS75.pkl')"
   ]
  },
  {
   "cell_type": "code",
   "execution_count": 36,
   "metadata": {
    "collapsed": false
   },
   "outputs": [],
   "source": [
    "model=joblib.load('modelC1logS75.pkl')"
   ]
  },
  {
   "cell_type": "code",
   "execution_count": 37,
   "metadata": {
    "collapsed": false
   },
   "outputs": [
    {
     "data": {
      "text/plain": [
       "0.99468085106382975"
      ]
     },
     "execution_count": 37,
     "metadata": {},
     "output_type": "execute_result"
    }
   ],
   "source": [
    "model.score(xtest,ytest)"
   ]
  },
  {
   "cell_type": "code",
   "execution_count": 35,
   "metadata": {
    "collapsed": false
   },
   "outputs": [],
   "source": [
    "del(model)"
   ]
  },
  {
   "cell_type": "code",
   "execution_count": null,
   "metadata": {
    "collapsed": true
   },
   "outputs": [],
   "source": []
  }
 ],
 "metadata": {
  "kernelspec": {
   "display_name": "Python 3",
   "language": "python",
   "name": "python3"
  },
  "language_info": {
   "codemirror_mode": {
    "name": "ipython",
    "version": 3
   },
   "file_extension": ".py",
   "mimetype": "text/x-python",
   "name": "python",
   "nbconvert_exporter": "python",
   "pygments_lexer": "ipython3",
   "version": "3.4.3"
  }
 },
 "nbformat": 4,
 "nbformat_minor": 0
}
